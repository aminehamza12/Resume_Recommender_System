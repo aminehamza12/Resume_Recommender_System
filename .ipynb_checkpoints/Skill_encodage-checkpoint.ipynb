{
 "cells": [
  {
   "cell_type": "code",
   "execution_count": 172,
   "metadata": {},
   "outputs": [],
   "source": [
    "import pandas as pd\n",
    "dd = pd.read_pickle(\"dummy.pkl\")\n",
    "df = dd.head(10)\n",
    "df = df.drop(columns=[\"scraped_time\"])\n",
    "df = df.drop(columns=[\"interests\"])\n",
    "df = df.drop(columns=[\"search\"])"
   ]
  },
  {
   "cell_type": "code",
   "execution_count": 173,
   "metadata": {},
   "outputs": [],
   "source": [
    "for i in range(df[\"skills\"].shape[0]):\n",
    "    for j in range(len(df[\"skills\"][i])):\n",
    "        dd[\"skills\"][i][j]['idx'] = i\n",
    "sk = pd.DataFrame(df[\"skills\"][0])\n",
    "for i in range(1,9):\n",
    "    sk =sk.append(pd.DataFrame(dd[\"skills\"][i]))\n",
    "        "
   ]
  },
  {
   "cell_type": "code",
   "execution_count": 174,
   "metadata": {},
   "outputs": [],
   "source": [
    "x = pd.DataFrame(sk[\"name\"].value_counts())"
   ]
  },
  {
   "cell_type": "code",
   "execution_count": 175,
   "metadata": {},
   "outputs": [],
   "source": [
    "list10 = sk[\"name\"].unique()"
   ]
  },
  {
   "cell_type": "code",
   "execution_count": 176,
   "metadata": {},
   "outputs": [
    {
     "data": {
      "text/plain": [
       "'\\ntemp=[]\\nfor i in list10:\\n    if \"JS\" in i.upper():\\n        temp.append(i)\\n        list10 = list10[list10!=i]\\n'"
      ]
     },
     "execution_count": 176,
     "metadata": {},
     "output_type": "execute_result"
    }
   ],
   "source": [
    "\"\"\"\n",
    "temp=[]\n",
    "for i in list10:\n",
    "    if \"JS\" in i.upper():\n",
    "        temp.append(i)\n",
    "        list10 = list10[list10!=i]\n",
    "\"\"\""
   ]
  },
  {
   "cell_type": "markdown",
   "metadata": {},
   "source": [
    "__Remarque__:\n",
    "Generer le dictionnaire automatiquement "
   ]
  },
  {
   "cell_type": "code",
   "execution_count": 177,
   "metadata": {},
   "outputs": [],
   "source": [
    "javascript = [\"JavaScript\",\"JS\",\"jscript\"]\n",
    "sql = [\"SQL\",\"StructuredQueryLanguage\"]\n",
    "nosql = [\"NoSQL\"]\n",
    "#framejs = []\n",
    "angularjs = [\"AngularJS\"]\n",
    "jquery = [\"jQuery\"]\n",
    "system = [\"bash\", \"nginx\", \"systemd\",\"unix ecosystem\",\"git bash\",\"unix\",\"linux\"]\n",
    "#c = [\"C\"]\n",
    "cpp = [\"C++\"]\n",
    "rest = [\"REST\"]\n",
    "reactjs = [\"ReactJS\"]\n",
    "SSAS = [\"SASS\"]\n",
    "webpack=[\"Webpack\"]\n",
    "gitlab=[\"Gitlab\"]\n",
    "unix=[\"Unix\",\"Linux\"]\n",
    "java = [\"JAVA\",\"JAVA 8\"]\n",
    "docker = [\"Docker\"]\n",
    "cloud = [\"AWS\"]\n",
    "nodejs = [\"NodeJS\"]\n",
    "html = [\"HTML\"]\n",
    "css = [\"CSS\",\"(CSS)\"]\n",
    "mongodb = [\"MongoDB\"]\n",
    "mysql = [\"MySQL\"]\n",
    "mvc = [\"MVC\"]\n",
    "soa = [\"SOA\"]\n",
    "git = [\"GIT\"]\n",
    "svn = [\"SVN\"]\n",
    "jira= [\"JIRA\"]\n",
    "confluence=[\"Confluence\"]\n",
    "spring=[\"Spring\",\"Spring Boot\",\"Spring Security\"]\n",
    "php = [\"PHP\"]\n",
    "symfony = [\"symfony\"]\n",
    "cms =[\"CMS\"]\n",
    "drupal =[\"Drupal\"]\n",
    "scrum = [\"Scrum\"]"
   ]
  },
  {
   "cell_type": "code",
   "execution_count": 178,
   "metadata": {},
   "outputs": [
    {
     "data": {
      "text/plain": [
       "['HAJA.JS', 'AngularJS', 'Node.js', 'Gruntjs', 'JavaServer Faces (JSF)']"
      ]
     },
     "execution_count": 178,
     "metadata": {},
     "output_type": "execute_result"
    }
   ],
   "source": [
    "hajetjs # A redefinir pour une base plus grande"
   ]
  },
  {
   "cell_type": "code",
   "execution_count": 179,
   "metadata": {},
   "outputs": [],
   "source": [
    "technologies = [sql,javascript,nosql,framejs,angularjs,jquery,system,c,cpp,rest,reactjs,SSAS,webpack,gitlab,unix,java,docker,cloud,nodejs,html,css,mongodb,mysql,mvc,soa,git,svn,jira,confluence,spring,php,symfony,cms,scrum,hajetjs]"
   ]
  },
  {
   "cell_type": "code",
   "execution_count": 180,
   "metadata": {},
   "outputs": [
    {
     "name": "stdout",
     "output_type": "stream",
     "text": [
      "HTML\n",
      "JavaScript\n",
      "JAVA\n",
      "JAVA 8\n",
      "JavaServer Faces (JSF)\n",
      "PHP\n",
      "MySQL\n",
      "JavaScript\n",
      "SQL\n",
      "NoSQL\n",
      "MySQL\n",
      "AngularJS\n",
      "AngularJS\n",
      "jQuery\n",
      "C++\n",
      "Linux\n",
      "Unix\n",
      "Spring Boot\n",
      "StructuredQueryLanguage\n",
      "JavaScript\n",
      "jscript\n",
      "C\n",
      "C++\n",
      "ReactJS\n",
      "Webpack\n",
      "Docker\n",
      "CSS\n",
      "(CSS)\n",
      "MVC\n",
      "Confluence\n",
      "Spring Security\n",
      "CMS\n",
      "Scrum\n",
      "JavaServer Faces (JSF)\n",
      "StructuredQueryLanguage\n",
      "JavaScript\n",
      "jscript\n",
      "AngularJS\n",
      "jQuery\n",
      "REST\n",
      "ReactJS\n",
      "Docker\n",
      "JIRA\n",
      "Spring\n",
      "Spring Boot\n",
      "Spring Security\n",
      "Scrum\n",
      "AngularJS\n",
      "Gruntjs\n",
      "JavaServer Faces (JSF)\n",
      "SASS\n",
      "CSS\n",
      "(CSS)\n",
      "CMS\n",
      "Gitlab\n",
      "GIT\n",
      "Node.js\n",
      "Gruntjs\n",
      "SASS\n",
      "PHP\n",
      "Gitlab\n",
      "GIT\n",
      "JavaServer Faces (JSF)\n",
      "SVN\n",
      "MongoDB\n",
      "Scrum\n"
     ]
    }
   ],
   "source": [
    "for i in list10:\n",
    "    for j in technologies :\n",
    "        for k in j:\n",
    "            if \" \".join(i.split()).strip().upper() in \" \".join(k.split()).strip().upper():\n",
    "                print(k)"
   ]
  },
  {
   "cell_type": "code",
   "execution_count": 181,
   "metadata": {},
   "outputs": [],
   "source": [
    "for i in range(df[\"skills\"].shape[0]):\n",
    "    for j in range(len(df[\"skills\"][i])):\n",
    "        for l in technologies :\n",
    "            for k in l:\n",
    "                if \" \".join(df[\"skills\"][i][j][\"name\"].split()).strip().upper() in \" \".join(k.split()).strip().upper():\n",
    "                    df[\"skills\"][i][j][\"name\"]=l[0]"
   ]
  },
  {
   "cell_type": "code",
   "execution_count": 182,
   "metadata": {},
   "outputs": [
    {
     "data": {
      "text/plain": [
       "'\\nfor j in range(len(df[\"skills\"][1])):\\n    for l in technologies :\\n        for k in l:\\n            if df[\"skills\"][1][j][\"name\"].strip().replace(\" \",\"\").upper() in k.strip().replace(\" \",\"\").upper():\\n                df[\"skills\"][1][j][\"name\"]=l[0]\\n'"
      ]
     },
     "execution_count": 182,
     "metadata": {},
     "output_type": "execute_result"
    }
   ],
   "source": [
    "\"\"\"\n",
    "for j in range(len(df[\"skills\"][1])):\n",
    "    for l in technologies :\n",
    "        for k in l:\n",
    "            if df[\"skills\"][1][j][\"name\"].strip().replace(\" \",\"\").upper() in k.strip().replace(\" \",\"\").upper():\n",
    "                df[\"skills\"][1][j][\"name\"]=l[0]\n",
    "\"\"\""
   ]
  },
  {
   "cell_type": "code",
   "execution_count": 183,
   "metadata": {},
   "outputs": [
    {
     "data": {
      "text/plain": [
       "array(['AutoCAD', 'Gestion de projet', 'Adobe Photoshop',\n",
       "       'Design architectural', \"Aménagement d'intérieur\",\n",
       "       'Microsoft Office', 'Microsoft Excel', 'Microsoft Word',\n",
       "       'Research', 'Strategic Planning', 'Budgets',\n",
       "       'Développement pour Android', 'Réseaux sociaux', 'PowerPoint',\n",
       "       'Windows', 'Outlook', 'Photoshop', 'HTML', 'JavaScript', 'PHP',\n",
       "       'MySQL', 'NoSQL', 'Feuilles de style en cascade (CSS)', 'XML',\n",
       "       'Ionic Framework', 'Drupal', 'HTML5', 'HAJA.JS', 'WordPress',\n",
       "       'Joomla', 'jQuery', 'Customer Service', 'Teaching',\n",
       "       'Public Speaking', 'Gestion d’équipe', 'Management', 'English',\n",
       "       'Apache Cordova', 'Prestashop', 'Lean Manufacturing',\n",
       "       'Lean Six Sigma', 'PTC Creo', 'SolidWorks', 'SOLIDWORKS',\n",
       "       'Leadership',\n",
       "       'Planification des ressources d’entreprise (ERP)\\n        \\n\\n          Planification des ressources d’entreprise (ERP)',\n",
       "       'Gestion de la chaîne logistique', 'UML', 'C++',\n",
       "       'RESTful WebServices', 'Java Enterprise Edition',\n",
       "       'Spring Framework', 'Spring MVC', 'Hibernate', 'Unix',\n",
       "       'PostgreSQL', 'IntelliJ IDEA', 'C#', 'Eclipse', 'Spring',\n",
       "       'Spring data', 'SOAP', 'SPSS', 'Data Mining', 'SASS', 'Statistics',\n",
       "       'Statistical Modeling', 'Business Intelligence',\n",
       "       'Business Analysis', 'Analyse de données', 'Statistiques',\n",
       "       'Databases', 'Eviews', 'French', 'CSS', 'XHTML', 'CMS', 'Gitlab',\n",
       "       'Web Development', 'AJAX', 'Tortoise SVN', 'Jenkins', 'redmine',\n",
       "       'Programmation web', 'Subversion', 'Adobe Illustrator', 'less',\n",
       "       'Twitter Bootstrap', 'Méthodes agiles', 'LAMP', 'Marketing',\n",
       "       'Service client', \"Travail d'équipe\", 'Parler en public',\n",
       "       'Anglais', 'Project Management', 'JEE', 'symfony2', 'PhoneGap',\n",
       "       'MERISE', 'SVN', 'Primefaces', 'Unified Modeling Language (UML)',\n",
       "       'Assembleur,', 'genesys SDK', 'Cascading Style Sheets (CSS)',\n",
       "       'Genesys', 'Genesys Framework', 'Jasper Reports', 'Big Data',\n",
       "       'MapReduce', 'Web Services', 'MongoDB', 'Hadoop', 'Data Analysis',\n",
       "       'Scrum', 'Software Engineering', 'Informatique décisionnelle',\n",
       "       'Exploration des données', 'Oozie', 'PL/SQL', 'HTML 5',\n",
       "       'SQL Server Management Studio', 'QlikView', 'Microsoft SQL Server',\n",
       "       'Sqoop', 'Apache Hive', 'Apache Spark', 'Cassandra',\n",
       "       'Apache Kafka', 'Elasticsearch', 'Web Scraping',\n",
       "       'Talend Open Studio'], dtype=object)"
      ]
     },
     "execution_count": 183,
     "metadata": {},
     "output_type": "execute_result"
    }
   ],
   "source": [
    "sk = pd.DataFrame(df[\"skills\"][0])\n",
    "for i in range(1,9):\n",
    "    sk =sk.append(pd.DataFrame(df[\"skills\"][i]))\n",
    "sk[\"name\"].unique()"
   ]
  },
  {
   "cell_type": "code",
   "execution_count": 184,
   "metadata": {},
   "outputs": [
    {
     "data": {
      "text/plain": [
       "array(['AutoCAD', 'Gestion de projet', 'Adobe Photoshop',\n",
       "       'Design architectural', \"Aménagement d'intérieur\",\n",
       "       'Microsoft Office', 'Microsoft Excel', 'Microsoft Word',\n",
       "       'Research', 'Strategic Planning', 'Budgets',\n",
       "       'Développement pour Android', 'Réseaux sociaux', 'PowerPoint',\n",
       "       'Windows', 'Outlook', 'Photoshop', 'HTML', 'Java', 'PHP', 'MySQL',\n",
       "       'JavaScript', 'SQL', 'Feuilles de style en cascade (CSS)', 'XML',\n",
       "       'Ionic Framework', 'Drupal', 'HTML5', 'AngularJS', 'WordPress',\n",
       "       'Joomla', 'jQuery', 'Customer Service', 'Teaching',\n",
       "       'Public Speaking', 'Gestion d’équipe', 'Management', 'English',\n",
       "       'Apache Cordova', 'Prestashop', 'Lean Manufacturing',\n",
       "       'Lean Six Sigma', 'PTC Creo', 'SolidWorks', 'SOLIDWORKS',\n",
       "       'Leadership',\n",
       "       'Planification des ressources d’entreprise (ERP)\\n        \\n\\n          Planification des ressources d’entreprise (ERP)',\n",
       "       'Gestion de la chaîne logistique', 'UML', 'C++',\n",
       "       'RESTful WebServices', 'Java Enterprise Edition',\n",
       "       'Spring Framework', 'Spring MVC', 'Hibernate', 'Linux',\n",
       "       'PostgreSQL', 'IntelliJ IDEA', 'Unix', 'C#', 'Eclipse',\n",
       "       'Spring Boot', 'Spring data', 'C', 'SOAP', 'R', 'SPSS',\n",
       "       'Data Mining', 'SAS', 'Statistics', 'Statistical Modeling',\n",
       "       'Business Intelligence', 'Business Analysis', 'Analyse de données',\n",
       "       'Statistiques', 'Databases', 'Eviews', 'French', 'CSS', 'XHTML',\n",
       "       'CMS', 'Git', 'Web Development', 'AJAX', 'Tortoise SVN', 'Jenkins',\n",
       "       'Node.js', 'redmine', 'Programmation web', 'Gruntjs', 'Subversion',\n",
       "       'Adobe Illustrator', 'less', 'Twitter Bootstrap',\n",
       "       'Méthodes agiles', 'SASS', 'LAMP', 'Marketing', 'Service client',\n",
       "       \"Travail d'équipe\", 'Parler en public', 'Anglais',\n",
       "       'Project Management', 'JEE', 'php', 'GIT', 'symfony2', 'PhoneGap',\n",
       "       'MERISE', 'JavaServer Faces (JSF)', 'SVN', 'Primefaces',\n",
       "       'Unified Modeling Language (UML)', 'Assembleur,', 'genesys SDK',\n",
       "       'Cascading Style Sheets (CSS)', 'Genesys', 'Genesys Framework',\n",
       "       'Jasper Reports', 'Big Data', 'MapReduce', 'Web Services',\n",
       "       'MongoDB', 'Hadoop', 'Data Analysis', 'Scrum',\n",
       "       'Software Engineering', 'Informatique décisionnelle',\n",
       "       'Exploration des données', 'Oozie', 'PL/SQL', 'HTML 5',\n",
       "       'SQL Server Management Studio', 'QlikView', 'Microsoft SQL Server',\n",
       "       'Sqoop', 'Apache Hive', 'Apache Spark', 'Cassandra',\n",
       "       'Apache Kafka', 'Elasticsearch', 'Web Scraping',\n",
       "       'Talend Open Studio'], dtype=object)"
      ]
     },
     "execution_count": 184,
     "metadata": {},
     "output_type": "execute_result"
    }
   ],
   "source": [
    "list10"
   ]
  },
  {
   "cell_type": "code",
   "execution_count": null,
   "metadata": {},
   "outputs": [],
   "source": []
  },
  {
   "cell_type": "code",
   "execution_count": null,
   "metadata": {},
   "outputs": [],
   "source": []
  }
 ],
 "metadata": {
  "kernelspec": {
   "display_name": "Python 3",
   "language": "python",
   "name": "python3"
  },
  "language_info": {
   "codemirror_mode": {
    "name": "ipython",
    "version": 3
   },
   "file_extension": ".py",
   "mimetype": "text/x-python",
   "name": "python",
   "nbconvert_exporter": "python",
   "pygments_lexer": "ipython3",
   "version": "3.7.4"
  }
 },
 "nbformat": 4,
 "nbformat_minor": 4
}
