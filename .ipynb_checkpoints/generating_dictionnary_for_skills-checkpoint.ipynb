{
 "cells": [
  {
   "cell_type": "code",
   "execution_count": null,
   "metadata": {},
   "outputs": [],
   "source": [
    "import numpy as np"
   ]
  },
  {
   "cell_type": "markdown",
   "metadata": {},
   "source": [
    "# Nsahlou 5edmet 200.000"
   ]
  },
  {
   "cell_type": "code",
   "execution_count": null,
   "metadata": {},
   "outputs": [],
   "source": [
    "def levenshtein(s1, s2):\n",
    "    if len(s1) < len(s2):\n",
    "        return levenshtein(s2, s1)\n",
    "\n",
    "    # len(s1) >= len(s2)\n",
    "    if len(s2) == 0:\n",
    "        return len(s1)\n",
    "\n",
    "    previous_row = range(len(s2) + 1)\n",
    "    for i, c1 in enumerate(s1):\n",
    "        current_row = [i + 1]\n",
    "        for j, c2 in enumerate(s2):\n",
    "            insertions = previous_row[j + 1] + 1 # j+1 instead of j since previous_row and current_row are one character longer\n",
    "            deletions = current_row[j] + 1       # than s2\n",
    "            substitutions = previous_row[j] + (c1 != c2)\n",
    "            current_row.append(min(insertions, deletions, substitutions))\n",
    "        previous_row = current_row\n",
    "    \n",
    "    return previous_row[-1]"
   ]
  },
  {
   "cell_type": "code",
   "execution_count": null,
   "metadata": {},
   "outputs": [],
   "source": [
    "levenshtein('java script', 'J_Script')"
   ]
  },
  {
   "cell_type": "markdown",
   "metadata": {},
   "source": [
    "### Sequence Matcher from difflib "
   ]
  },
  {
   "cell_type": "markdown",
   "metadata": {},
   "source": [
    "### Fonction Abbreviation "
   ]
  },
  {
   "cell_type": "code",
   "execution_count": null,
   "metadata": {},
   "outputs": [],
   "source": [
    "def Abreviation(word):\n",
    "    word = word.lower()\n",
    "    words = word.split()\n",
    "    letters = [x[0] for x in words]\n",
    "    return \"\".join(letters)"
   ]
  },
  {
   "cell_type": "code",
   "execution_count": null,
   "metadata": {},
   "outputs": [],
   "source": [
    "Abreviation('java Script')"
   ]
  },
  {
   "cell_type": "markdown",
   "metadata": {},
   "source": [
    "# Traduction francais anglais "
   ]
  },
  {
   "cell_type": "markdown",
   "metadata": {},
   "source": [
    "- pip install googletrans\n",
    "- pip install pydeepl (payant)\n",
    "- pip install spacy\n",
    "- python -m spacy download en_core_web_md\n",
    "- pip install nltk"
   ]
  },
  {
   "cell_type": "code",
   "execution_count": null,
   "metadata": {},
   "outputs": [],
   "source": [
    "from googletrans import Translator\n",
    "translator = Translator()\n",
    "translator.translate('feuilles de styles en cascade.', dest='en', src='fr').text"
   ]
  },
  {
   "cell_type": "markdown",
   "metadata": {},
   "source": [
    "### fonction traduire en anglais "
   ]
  },
  {
   "cell_type": "code",
   "execution_count": null,
   "metadata": {},
   "outputs": [],
   "source": [
    "def translateToEnglish(word):\n",
    "    translator = Translator()\n",
    "    return translator.translate(word+\".\", dest='en', src='fr').text"
   ]
  },
  {
   "cell_type": "markdown",
   "metadata": {},
   "source": [
    "### fonction détecter la langue"
   ]
  },
  {
   "cell_type": "code",
   "execution_count": null,
   "metadata": {},
   "outputs": [],
   "source": [
    "def detectLanguage(word):\n",
    "    translator = Translator()\n",
    "    return translator.detect(word+'.').lang"
   ]
  },
  {
   "cell_type": "code",
   "execution_count": null,
   "metadata": {},
   "outputs": [],
   "source": [
    "detectLanguage('feuilles de styles en cascade')"
   ]
  },
  {
   "cell_type": "markdown",
   "metadata": {},
   "source": [
    "### fonction calculer le ratio de similarité entre 2 mots "
   ]
  },
  {
   "cell_type": "code",
   "execution_count": null,
   "metadata": {},
   "outputs": [],
   "source": [
    "import difflib\n",
    "\n",
    "def Similarity_Ratio(word1, word2):\n",
    "    seq = difflib.SequenceMatcher(None,word1,word2)\n",
    "    return seq.ratio()*100"
   ]
  },
  {
   "cell_type": "code",
   "execution_count": null,
   "metadata": {},
   "outputs": [],
   "source": [
    "Similarity_Ratio('java','javac')"
   ]
  },
  {
   "cell_type": "markdown",
   "metadata": {},
   "source": [
    "# Phase de test "
   ]
  },
  {
   "cell_type": "code",
   "execution_count": null,
   "metadata": {},
   "outputs": [],
   "source": [
    "import pandas as pd\n",
    "dd = pd.read_pickle(\"dummy.pkl\")\n",
    "for i in range(dd[\"skills\"].shape[0]):\n",
    "    for j in range(len(dd[\"skills\"][i])):\n",
    "        dd[\"skills\"][i][j]['idx'] = i\n",
    "        \n",
    "df = pd.DataFrame(dd[\"skills\"][0])\n",
    "for i in range(1,dd[\"skills\"].shape[0]):\n",
    "    df =df.append(pd.DataFrame(dd[\"skills\"][i]))\n",
    "\n",
    "unique_skills = pd.DataFrame(df[\"name\"].value_counts())\n",
    "df_skills = df['name']\n",
    "        "
   ]
  },
  {
   "cell_type": "code",
   "execution_count": null,
   "metadata": {},
   "outputs": [],
   "source": [
    "skills = unique_skills['name'].index"
   ]
  },
  {
   "cell_type": "markdown",
   "metadata": {},
   "source": [
    "# test avec abbréviation "
   ]
  },
  {
   "cell_type": "code",
   "execution_count": null,
   "metadata": {},
   "outputs": [],
   "source": [
    "def Extract_Similar_Skills(skills, target, translate = False, ratio = 50, abreviate = False):\n",
    "    liste = []\n",
    "    target = target.lower()\n",
    "    target_origin = target\n",
    "    for skill in skills:\n",
    "        word = str(skill).lower().strip()\n",
    "        if '\\n' in word:\n",
    "            word = word.partition('\\n')[0]\n",
    "        if abreviate:\n",
    "            word = Abreviation(word)\n",
    "            target = Abreviation(target_origin)\n",
    "        if word != target:\n",
    "            if translate:\n",
    "                if detectLanguage(skill) != 'en': \n",
    "                    word = translateToEnglish(word)\n",
    "            rat = Similarity_Ratio(target, word)\n",
    "            if rat >= ratio:\n",
    "                liste.append({\n",
    "                    'Target_Skill' : target,\n",
    "                    'Candidate_Skill' : word,\n",
    "                    'Ratio' : rat\n",
    "                })\n",
    "    return pd.DataFrame(liste,columns=['Target_Skill', 'Candidate_Skill', 'Ratio'])\n",
    "    "
   ]
  },
  {
   "cell_type": "code",
   "execution_count": null,
   "metadata": {},
   "outputs": [],
   "source": [
    "result = Extract_Similar_Skills(skills, 'angular js', ratio = 60)"
   ]
  },
  {
   "cell_type": "code",
   "execution_count": null,
   "metadata": {},
   "outputs": [],
   "source": [
    "to_remove = [29,32,35,41,43,45,67,70,72,75,80]\n",
    "angularJS = list(result.Candidate_Skill)\n",
    "for index in sorted(to_remove, reverse=True):\n",
    "    del angularJS[index]\n",
    "len(angularJS)"
   ]
  },
  {
   "cell_type": "code",
   "execution_count": null,
   "metadata": {},
   "outputs": [],
   "source": [
    "angular = list(set(angularJS))"
   ]
  },
  {
   "cell_type": "code",
   "execution_count": null,
   "metadata": {},
   "outputs": [],
   "source": [
    "#picklage\n",
    "np.save('angular_dict_diffl',angular)\n",
    "#obj = np.load(\"nom_fich\")"
   ]
  },
  {
   "cell_type": "code",
   "execution_count": null,
   "metadata": {},
   "outputs": [],
   "source": [
    "result = Extract_Similar_Skills(skills, 'Structured Query Language', ratio = 60, abreviate=True)"
   ]
  },
  {
   "cell_type": "markdown",
   "metadata": {},
   "source": [
    "c = 0\n",
    "for i in result.Candidate_Skill:\n",
    "    print(c)\n",
    "    c=c+1\n",
    "    print('______')\n",
    "    print(i)\n",
    "    "
   ]
  },
  {
   "cell_type": "code",
   "execution_count": null,
   "metadata": {},
   "outputs": [],
   "source": []
  },
  {
   "cell_type": "code",
   "execution_count": null,
   "metadata": {},
   "outputs": [],
   "source": []
  },
  {
   "cell_type": "code",
   "execution_count": null,
   "metadata": {},
   "outputs": [],
   "source": []
  },
  {
   "cell_type": "code",
   "execution_count": null,
   "metadata": {},
   "outputs": [],
   "source": []
  }
 ],
 "metadata": {
  "kernelspec": {
   "display_name": "Python 3",
   "language": "python",
   "name": "python3"
  },
  "language_info": {
   "codemirror_mode": {
    "name": "ipython",
    "version": 3
   },
   "file_extension": ".py",
   "mimetype": "text/x-python",
   "name": "python",
   "nbconvert_exporter": "python",
   "pygments_lexer": "ipython3",
   "version": "3.6.9"
  }
 },
 "nbformat": 4,
 "nbformat_minor": 4
}
