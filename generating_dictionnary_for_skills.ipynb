{
 "cells": [
  {
   "cell_type": "code",
   "execution_count": 1,
   "metadata": {},
   "outputs": [],
   "source": [
    "import numpy as np"
   ]
  },
  {
   "cell_type": "code",
   "execution_count": 2,
   "metadata": {},
   "outputs": [],
   "source": [
    "def levenshtein(s1, s2):\n",
    "    if len(s1) < len(s2):\n",
    "        return levenshtein(s2, s1)\n",
    "\n",
    "    # len(s1) >= len(s2)\n",
    "    if len(s2) == 0:\n",
    "        return len(s1)\n",
    "\n",
    "    previous_row = range(len(s2) + 1)\n",
    "    for i, c1 in enumerate(s1):\n",
    "        current_row = [i + 1]\n",
    "        for j, c2 in enumerate(s2):\n",
    "            insertions = previous_row[j + 1] + 1 # j+1 instead of j since previous_row and current_row are one character longer\n",
    "            deletions = current_row[j] + 1       # than s2\n",
    "            substitutions = previous_row[j] + (c1 != c2)\n",
    "            current_row.append(min(insertions, deletions, substitutions))\n",
    "        previous_row = current_row\n",
    "    \n",
    "    return previous_row[-1]"
   ]
  },
  {
   "cell_type": "code",
   "execution_count": 3,
   "metadata": {},
   "outputs": [
    {
     "data": {
      "text/plain": [
       "6"
      ]
     },
     "execution_count": 3,
     "metadata": {},
     "output_type": "execute_result"
    }
   ],
   "source": [
    "levenshtein('java script', 'J_Script')"
   ]
  },
  {
   "cell_type": "markdown",
   "metadata": {},
   "source": [
    "### Sequence Matcher from difflib "
   ]
  },
  {
   "cell_type": "markdown",
   "metadata": {},
   "source": [
    "### Fonction Abbreviation "
   ]
  },
  {
   "cell_type": "code",
   "execution_count": 4,
   "metadata": {},
   "outputs": [],
   "source": [
    "def Abreviation(word):\n",
    "    word = word.lower()\n",
    "    words = word.split()\n",
    "    letters = [x[0] for x in words]\n",
    "    return \"\".join(letters)"
   ]
  },
  {
   "cell_type": "code",
   "execution_count": 5,
   "metadata": {},
   "outputs": [
    {
     "data": {
      "text/plain": [
       "'js'"
      ]
     },
     "execution_count": 5,
     "metadata": {},
     "output_type": "execute_result"
    }
   ],
   "source": [
    "Abreviation('java Script')"
   ]
  },
  {
   "cell_type": "markdown",
   "metadata": {},
   "source": [
    "# Traduction francais anglais "
   ]
  },
  {
   "cell_type": "markdown",
   "metadata": {},
   "source": [
    "- pip install googletrans\n",
    "- pip install pydeepl (payant)\n",
    "- pip install spacy\n",
    "- python -m spacy download en_core_web_md\n",
    "- pip install nltk"
   ]
  },
  {
   "cell_type": "code",
   "execution_count": 6,
   "metadata": {},
   "outputs": [
    {
     "data": {
      "text/plain": [
       "'cascading style sheets.'"
      ]
     },
     "execution_count": 6,
     "metadata": {},
     "output_type": "execute_result"
    }
   ],
   "source": [
    "from googletrans import Translator\n",
    "translator = Translator()\n",
    "translator.translate('feuilles de styles en cascade.', dest='en', src='fr').text"
   ]
  },
  {
   "cell_type": "markdown",
   "metadata": {},
   "source": [
    "### fonction traduire en anglais "
   ]
  },
  {
   "cell_type": "code",
   "execution_count": 7,
   "metadata": {},
   "outputs": [],
   "source": [
    "def translateToEnglish(word):\n",
    "    translator = Translator()\n",
    "    return translator.translate(word+\".\", dest='en', src='fr').text"
   ]
  },
  {
   "cell_type": "markdown",
   "metadata": {},
   "source": [
    "### fonction détecter la langue"
   ]
  },
  {
   "cell_type": "code",
   "execution_count": 8,
   "metadata": {},
   "outputs": [],
   "source": [
    "def detectLanguage(word):\n",
    "    translator = Translator()\n",
    "    return translator.detect(word+'.').lang"
   ]
  },
  {
   "cell_type": "code",
   "execution_count": 9,
   "metadata": {},
   "outputs": [
    {
     "data": {
      "text/plain": [
       "'fr'"
      ]
     },
     "execution_count": 9,
     "metadata": {},
     "output_type": "execute_result"
    }
   ],
   "source": [
    "detectLanguage('feuilles de styles en cascade')"
   ]
  },
  {
   "cell_type": "markdown",
   "metadata": {},
   "source": [
    "### fonction calculer le ratio de similarité entre 2 mots "
   ]
  },
  {
   "cell_type": "code",
   "execution_count": 10,
   "metadata": {},
   "outputs": [],
   "source": [
    "import difflib\n",
    "\n",
    "def Similarity_Ratio(word1, word2):\n",
    "    seq = difflib.SequenceMatcher(None,word1,word2)\n",
    "    return seq.ratio()*100"
   ]
  },
  {
   "cell_type": "code",
   "execution_count": 11,
   "metadata": {},
   "outputs": [
    {
     "data": {
      "text/plain": [
       "88.88888888888889"
      ]
     },
     "execution_count": 11,
     "metadata": {},
     "output_type": "execute_result"
    }
   ],
   "source": [
    "Similarity_Ratio('java','javac')"
   ]
  },
  {
   "cell_type": "markdown",
   "metadata": {},
   "source": [
    "# Phase de test "
   ]
  },
  {
   "cell_type": "code",
   "execution_count": 12,
   "metadata": {},
   "outputs": [],
   "source": [
    "import pandas as pd\n",
    "dd = pd.read_pickle(\"dummy.pkl\")\n",
    "for i in range(dd[\"skills\"].shape[0]):\n",
    "    for j in range(len(dd[\"skills\"][i])):\n",
    "        dd[\"skills\"][i][j]['idx'] = i\n",
    "        \n",
    "df = pd.DataFrame(dd[\"skills\"][0])\n",
    "for i in range(1,dd[\"skills\"].shape[0]):\n",
    "    df =df.append(pd.DataFrame(dd[\"skills\"][i]))\n",
    "\n",
    "unique_skills = pd.DataFrame(df[\"name\"].value_counts())\n",
    "df_skills = df['name']\n",
    "        "
   ]
  },
  {
   "cell_type": "code",
   "execution_count": 13,
   "metadata": {},
   "outputs": [],
   "source": [
    "skills = unique_skills['name'].index"
   ]
  },
  {
   "cell_type": "markdown",
   "metadata": {},
   "source": [
    "# test avec abbréviation "
   ]
  },
  {
   "cell_type": "code",
   "execution_count": 14,
   "metadata": {},
   "outputs": [],
   "source": [
    "def Extract_Similar_Skills(skills, target, translate = False, ratio = 50, abreviate = False):\n",
    "    liste = []\n",
    "    target = target.lower()\n",
    "    target_origin = target\n",
    "    for skill in skills:\n",
    "        word = str(skill).lower().strip()\n",
    "        if '\\n' in word:\n",
    "            word = word.partition('\\n')[0]\n",
    "        if abreviate:\n",
    "            word = Abreviation(word)\n",
    "            target = Abreviation(target_origin)\n",
    "        if word != target:\n",
    "            if translate:\n",
    "                if detectLanguage(skill) != 'en': \n",
    "                    word = translateToEnglish(word)\n",
    "            rat = Similarity_Ratio(target, word)\n",
    "            if rat >= ratio:\n",
    "                liste.append({\n",
    "                    'Target_Skill' : target,\n",
    "                    'Candidate_Skill' : word,\n",
    "                    'Ratio' : rat\n",
    "                })\n",
    "    return pd.DataFrame(liste,columns=['Target_Skill', 'Candidate_Skill', 'Ratio'])\n",
    "    "
   ]
  },
  {
   "cell_type": "code",
   "execution_count": 15,
   "metadata": {},
   "outputs": [],
   "source": [
    "result = Extract_Similar_Skills(skills, 'java script', ratio = 60)"
   ]
  },
  {
   "cell_type": "code",
   "execution_count": 18,
   "metadata": {},
   "outputs": [
    {
     "name": "stdout",
     "output_type": "stream",
     "text": [
      "   Target_Skill            Candidate_Skill      Ratio\n",
      "0   java script                 javascript  95.238095\n",
      "1   java script                    java se  66.666667\n",
      "2   java script               actionscript  60.869565\n",
      "3   java script                 javascript  95.238095\n",
      "4   java script                  scripting  60.000000\n",
      "5   java script                 javascript  95.238095\n",
      "6   java script                   vbscript  73.684211\n",
      "7   java script             css javascript  80.000000\n",
      "8   java script                   java rmi  73.684211\n",
      "9   java script              javascriptmvc  83.333333\n",
      "10  java script                perl script  63.636364\n",
      "11  java script               nativescript  69.565217\n",
      "12  java script                 ecmascript  66.666667\n",
      "13  java script       javascript libraries  64.516129\n",
      "14  java script                 java swing  66.666667\n",
      "15  java script                 javascript  95.238095\n",
      "16  java script                   javacard  63.157895\n",
      "17  java script               rsa security  60.869565\n",
      "18  java script                     javasc  70.588235\n",
      "19  java script               nativescript  69.565217\n",
      "20  java script                 javascript  95.238095\n",
      "21  java script                    jscript  77.777778\n",
      "22  java script                  java card  70.000000\n",
      "23  java script                java portal  63.636364\n",
      "24  java script                   vbscript  73.684211\n",
      "25  java script             java (eclipse)  64.000000\n",
      "26  java script                      avast  62.500000\n",
      "27  java script                  javacript  90.000000\n",
      "28  java script               javaservlets  60.869565\n",
      "29  java script                java tomcat  63.636364\n",
      "30  java script             javascript/es6  80.000000\n",
      "31  java script           java spring boot  66.666667\n",
      "32  java script  java script, vb script...  61.111111\n",
      "33  java script              java security  83.333333\n",
      "34  java script                     javasc  70.588235\n",
      "35  java script            action script 3  61.538462\n",
      "36  java script                 javascprit  85.714286\n",
      "37  java script               test scripts  60.869565\n",
      "38  java script                java spring  72.727273\n",
      "39  java script               c, scripting  60.869565\n",
      "40  java script             javascript es6  80.000000\n",
      "41  java script      html5 css3 javascript  62.500000\n",
      "42  java script             bash scripting  64.000000\n",
      "43  java script                java_script  90.909091\n",
      "44  java script                 java swing  66.666667\n",
      "45  java script                   java rmi  73.684211\n",
      "46  java script                  java j2se  60.000000\n",
      "47  java script        html-css-javascript  66.666667\n",
      "48  java script                  java card  70.000000\n",
      "49  java script               ecmascript 6  60.869565\n",
      "50  java script       fullstack javascript  64.516129\n",
      "51  java script              native script  75.000000\n",
      "52  java script                boot script  63.636364\n",
      "53  java script             bash scripting  64.000000\n",
      "54  java script                 ecmascript  66.666667\n",
      "55  java script     javascript for acrobat  60.606061\n",
      "56  java script                    javarmi  66.666667\n",
      "57  java script               nativescript  69.565217\n",
      "58  java script                  java se 8  60.000000\n",
      "59  java script                bash script  72.727273\n",
      "60  java script               ecmascript 6  60.869565\n",
      "61  java script                  javascrip  90.000000\n",
      "62  java script                type script  63.636364\n",
      "63  java script                   javacard  63.157895\n",
      "64  java script            action script 3  61.538462\n",
      "65  java script              javascript oo  83.333333\n",
      "66  java script               shell script  60.869565\n",
      "67  java script          aviation security  64.285714\n",
      "68  java script              action script  66.666667\n",
      "69  java script          javascipt(jquery)  64.285714\n",
      "70  java script              javascript js  83.333333\n",
      "71  java script                   java se8  63.157895\n",
      "72  java script            job description  61.538462\n",
      "73  java script               ecmascript 6  60.869565\n",
      "74  java script              native script  75.000000\n",
      "75  java script       javascript fullstack  64.516129\n",
      "76  java script                java-script  90.909091\n",
      "77  java script                  javascipt  90.000000\n",
      "78  java script               smart script  69.565217\n",
      "79  java script                      javas  62.500000\n",
      "80  java script                   gdscript  63.157895\n",
      "81  java script           abaqus scripting  66.666667\n"
     ]
    }
   ],
   "source": [
    "print(result.to_string())"
   ]
  },
  {
   "cell_type": "code",
   "execution_count": null,
   "metadata": {},
   "outputs": [],
   "source": [
    "to_remove = [29,32,35,41,43,45,67,70,72,75,80]\n",
    "angularJS = list(result.Candidate_Skill)\n",
    "for index in sorted(to_remove, reverse=True):\n",
    "    del angularJS[index]\n",
    "angular = list(set(angularJS))"
   ]
  },
  {
   "cell_type": "code",
   "execution_count": null,
   "metadata": {},
   "outputs": [],
   "source": []
  },
  {
   "cell_type": "code",
   "execution_count": null,
   "metadata": {},
   "outputs": [],
   "source": [
    "angular = list(set(angularJS))"
   ]
  },
  {
   "cell_type": "code",
   "execution_count": null,
   "metadata": {},
   "outputs": [],
   "source": [
    "#picklage\n",
    "np.save('angular_dict_diffl',angular)\n",
    "#obj = np.load(\"nom_fich\")"
   ]
  },
  {
   "cell_type": "code",
   "execution_count": null,
   "metadata": {},
   "outputs": [],
   "source": [
    "result = Extract_Similar_Skills(skills, 'Structured Query Language', ratio = 60, abreviate=True)"
   ]
  }
 ],
 "metadata": {
  "kernelspec": {
   "display_name": "Python [conda env:ML] *",
   "language": "python",
   "name": "conda-env-ML-py"
  },
  "language_info": {
   "codemirror_mode": {
    "name": "ipython",
    "version": 3
   },
   "file_extension": ".py",
   "mimetype": "text/x-python",
   "name": "python",
   "nbconvert_exporter": "python",
   "pygments_lexer": "ipython3",
   "version": "3.7.4"
  }
 },
 "nbformat": 4,
 "nbformat_minor": 4
}
